{
 "cells": [
  {
   "cell_type": "markdown",
   "metadata": {},
   "source": [
    "# This is the notebook for Coursera Applied Data Science Capstone Project"
   ]
  },
  {
   "cell_type": "markdown",
   "metadata": {},
   "source": [
    "### 1- Motivation\n",
    "\n",
    "Whenever someone is trying to open a new business, the lack of information is always their enemy. How much to charge for the sevices? How much effort expend on confort, ambientation or customer experience? \n",
    "\n",
    "The purpose of this project is to try to awnser all this questions and more. Using Toronto as an example, the we will explore all neighborhoods to find what each one expects from their services. \n",
    "\n",
    "Using the Foursquare dataset, we will filter by restaurants as example to identify some characteristics from each venue in each neighborhood and see it's impact on the venue popularity. The expectation is to create a guideline to new business to understand the neighborhood and its potential customers."
   ]
  },
  {
   "cell_type": "markdown",
   "metadata": {},
   "source": [
    "### 2- Dataset\n",
    "\n",
    "For this example, I will use Toronto as baseline, but it can be use with any city that exist in Foursquare database.\n",
    "\n",
    "I will use more venues' informations than previous projects, such as price, popularity, if its clean or if its require any dress code. "
   ]
  }
 ],
 "metadata": {
  "kernelspec": {
   "display_name": "Python 3",
   "language": "python",
   "name": "python3"
  },
  "language_info": {
   "codemirror_mode": {
    "name": "ipython",
    "version": 3
   },
   "file_extension": ".py",
   "mimetype": "text/x-python",
   "name": "python",
   "nbconvert_exporter": "python",
   "pygments_lexer": "ipython3",
   "version": "3.8.5"
  }
 },
 "nbformat": 4,
 "nbformat_minor": 4
}
